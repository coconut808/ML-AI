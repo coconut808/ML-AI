{
  "cells": [
    {
      "cell_type": "markdown",
      "metadata": {
        "id": "CcUT6Fon_qRE"
      },
      "source": [
        "### Required Assignment 5.1: Will the Customer Accept the Coupon?\n",
        "\n",
        "**Context**\n",
        "\n",
        "Imagine driving through town and a coupon is delivered to your cell phone for a restaurant near where you are driving. Would you accept that coupon and take a short detour to the restaurant? Would you accept the coupon but use it on a subsequent trip? Would you ignore the coupon entirely? What if the coupon was for a bar instead of a restaurant? What about a coffee house? Would you accept a bar coupon with a minor passenger in the car? What about if it was just you and your partner in the car? Would weather impact the rate of acceptance? What about the time of day?\n",
        "\n",
        "Obviously, proximity to the business is a factor on whether the coupon is delivered to the driver or not, but what are the factors that determine whether a driver accepts the coupon once it is delivered to them? How would you determine whether a driver is likely to accept a coupon?\n",
        "\n",
        "**Overview**\n",
        "\n",
        "The goal of this project is to use what you know about visualizations and probability distributions to distinguish between customers who accepted a driving coupon versus those that did not.\n",
        "\n",
        "**Data**\n",
        "\n",
        "This data comes to us from the UCI Machine Learning repository and was collected via a survey on Amazon Mechanical Turk. The survey describes different driving scenarios including the destination, current time, weather, passenger, etc., and then ask the person whether he will accept the coupon if he is the driver. Answers that the user will drive there ‘right away’ or ‘later before the coupon expires’ are labeled as ‘Y = 1’ and answers ‘no, I do not want the coupon’ are labeled as ‘Y = 0’.  There are five different types of coupons -- less expensive restaurants (under \\$20), coffee houses, carry out & take away, bar, and more expensive restaurants (\\$20 - $50)."
      ]
    },
    {
      "cell_type": "code",
      "execution_count": null,
      "metadata": {},
      "outputs": [],
      "source": []
    },
    {
      "cell_type": "markdown",
      "metadata": {
        "id": "1wORvMBJ_qRF"
      },
      "source": [
        "**Deliverables**\n",
        "\n",
        "Your final product should be a brief report that highlights the differences between customers who did and did not accept the coupons.  To explore the data you will utilize your knowledge of plotting, statistical summaries, and visualization using Python. You will publish your findings in a public facing github repository as your first portfolio piece.\n",
        "\n",
        "\n",
        "\n"
      ]
    },
    {
      "cell_type": "markdown",
      "metadata": {
        "id": "pG6_Ym6q_qRG"
      },
      "source": [
        "### Data Description\n",
        "Keep in mind that these values mentioned below are average values.\n",
        "\n",
        "The attributes of this data set include:\n",
        "1. User attributes\n",
        "    -  Gender: male, female\n",
        "    -  Age: below 21, 21 to 25, 26 to 30, etc.\n",
        "    -  Marital Status: single, married partner, unmarried partner, or widowed\n",
        "    -  Number of children: 0, 1, or more than 1\n",
        "    -  Education: high school, bachelors degree, associates degree, or graduate degree\n",
        "    -  Occupation: architecture & engineering, business & financial, etc.\n",
        "    -  Annual income: less than \\\\$12500, \\\\$12500 - \\\\$24999, \\\\$25000 - \\\\$37499, etc.\n",
        "    -  Number of times that he/she goes to a bar: 0, less than 1, 1 to 3, 4 to 8 or greater than 8\n",
        "    -  Number of times that he/she buys takeaway food: 0, less than 1, 1 to 3, 4 to 8 or greater\n",
        "    than 8\n",
        "    -  Number of times that he/she goes to a coffee house: 0, less than 1, 1 to 3, 4 to 8 or\n",
        "    greater than 8\n",
        "    -  Number of times that he/she eats at a restaurant with average expense less than \\\\$20 per\n",
        "    person: 0, less than 1, 1 to 3, 4 to 8 or greater than 8\n",
        "    -  Number of times that he/she goes to a bar: 0, less than 1, 1 to 3, 4 to 8 or greater than 8\n",
        "    \n",
        "\n",
        "2. Contextual attributes\n",
        "    - Driving destination: home, work, or no urgent destination\n",
        "    - Location of user, coupon and destination: we provide a map to show the geographical\n",
        "    location of the user, destination, and the venue, and we mark the distance between each\n",
        "    two places with time of driving. The user can see whether the venue is in the same\n",
        "    direction as the destination.\n",
        "    - Weather: sunny, rainy, or snowy\n",
        "    - Temperature: 30F, 55F, or 80F\n",
        "    - Time: 10AM, 2PM, or 6PM\n",
        "    - Passenger: alone, partner, kid(s), or friend(s)\n",
        "\n",
        "\n",
        "3. Coupon attributes\n",
        "    - time before it expires: 2 hours or one day"
      ]
    },
    {
      "cell_type": "code",
      "execution_count": 3,
      "metadata": {
        "id": "dzNoP3o__qRG"
      },
      "outputs": [],
      "source": [
        "import matplotlib.pyplot as plt\n",
        "import seaborn as sns\n",
        "import pandas as pd\n",
        "import numpy as np\n",
        "import plotly.express as px"
      ]
    },
    {
      "cell_type": "markdown",
      "metadata": {
        "id": "Ct8pI1uE_qRG"
      },
      "source": [
        "# Problems\n",
        "\n",
        "Use the prompts below to get started with your data analysis.  \n",
        "\n",
        "1. Read in the `coupons.csv` file.\n",
        "\n",
        "\n"
      ]
    },
    {
      "cell_type": "code",
      "execution_count": 16,
      "metadata": {
        "id": "X0vbffYg_qRH"
      },
      "outputs": [],
      "source": [
        "data = pd.read_csv('data/coupons.csv')"
      ]
    },
    {
      "cell_type": "markdown",
      "metadata": {},
      "source": [
        "### Data Exploration"
      ]
    },
    {
      "cell_type": "code",
      "execution_count": 17,
      "metadata": {
        "id": "TXofQ_DF_qRH",
        "outputId": "2fc96a2c-1112-4b54-f24f-dbb9bc88abfb"
      },
      "outputs": [
        {
          "data": {
            "text/html": [
              "<div>\n",
              "<style scoped>\n",
              "    .dataframe tbody tr th:only-of-type {\n",
              "        vertical-align: middle;\n",
              "    }\n",
              "\n",
              "    .dataframe tbody tr th {\n",
              "        vertical-align: top;\n",
              "    }\n",
              "\n",
              "    .dataframe thead th {\n",
              "        text-align: right;\n",
              "    }\n",
              "</style>\n",
              "<table border=\"1\" class=\"dataframe\">\n",
              "  <thead>\n",
              "    <tr style=\"text-align: right;\">\n",
              "      <th></th>\n",
              "      <th>destination</th>\n",
              "      <th>passanger</th>\n",
              "      <th>weather</th>\n",
              "      <th>temperature</th>\n",
              "      <th>time</th>\n",
              "      <th>coupon</th>\n",
              "      <th>expiration</th>\n",
              "      <th>gender</th>\n",
              "      <th>age</th>\n",
              "      <th>maritalStatus</th>\n",
              "      <th>...</th>\n",
              "      <th>CoffeeHouse</th>\n",
              "      <th>CarryAway</th>\n",
              "      <th>RestaurantLessThan20</th>\n",
              "      <th>Restaurant20To50</th>\n",
              "      <th>toCoupon_GEQ5min</th>\n",
              "      <th>toCoupon_GEQ15min</th>\n",
              "      <th>toCoupon_GEQ25min</th>\n",
              "      <th>direction_same</th>\n",
              "      <th>direction_opp</th>\n",
              "      <th>Y</th>\n",
              "    </tr>\n",
              "  </thead>\n",
              "  <tbody>\n",
              "    <tr>\n",
              "      <th>0</th>\n",
              "      <td>No Urgent Place</td>\n",
              "      <td>Alone</td>\n",
              "      <td>Sunny</td>\n",
              "      <td>55</td>\n",
              "      <td>2PM</td>\n",
              "      <td>Restaurant(&lt;20)</td>\n",
              "      <td>1d</td>\n",
              "      <td>Female</td>\n",
              "      <td>21</td>\n",
              "      <td>Unmarried partner</td>\n",
              "      <td>...</td>\n",
              "      <td>never</td>\n",
              "      <td>NaN</td>\n",
              "      <td>4~8</td>\n",
              "      <td>1~3</td>\n",
              "      <td>1</td>\n",
              "      <td>0</td>\n",
              "      <td>0</td>\n",
              "      <td>0</td>\n",
              "      <td>1</td>\n",
              "      <td>1</td>\n",
              "    </tr>\n",
              "    <tr>\n",
              "      <th>1</th>\n",
              "      <td>No Urgent Place</td>\n",
              "      <td>Friend(s)</td>\n",
              "      <td>Sunny</td>\n",
              "      <td>80</td>\n",
              "      <td>10AM</td>\n",
              "      <td>Coffee House</td>\n",
              "      <td>2h</td>\n",
              "      <td>Female</td>\n",
              "      <td>21</td>\n",
              "      <td>Unmarried partner</td>\n",
              "      <td>...</td>\n",
              "      <td>never</td>\n",
              "      <td>NaN</td>\n",
              "      <td>4~8</td>\n",
              "      <td>1~3</td>\n",
              "      <td>1</td>\n",
              "      <td>0</td>\n",
              "      <td>0</td>\n",
              "      <td>0</td>\n",
              "      <td>1</td>\n",
              "      <td>0</td>\n",
              "    </tr>\n",
              "    <tr>\n",
              "      <th>2</th>\n",
              "      <td>No Urgent Place</td>\n",
              "      <td>Friend(s)</td>\n",
              "      <td>Sunny</td>\n",
              "      <td>80</td>\n",
              "      <td>10AM</td>\n",
              "      <td>Carry out &amp; Take away</td>\n",
              "      <td>2h</td>\n",
              "      <td>Female</td>\n",
              "      <td>21</td>\n",
              "      <td>Unmarried partner</td>\n",
              "      <td>...</td>\n",
              "      <td>never</td>\n",
              "      <td>NaN</td>\n",
              "      <td>4~8</td>\n",
              "      <td>1~3</td>\n",
              "      <td>1</td>\n",
              "      <td>1</td>\n",
              "      <td>0</td>\n",
              "      <td>0</td>\n",
              "      <td>1</td>\n",
              "      <td>1</td>\n",
              "    </tr>\n",
              "    <tr>\n",
              "      <th>3</th>\n",
              "      <td>No Urgent Place</td>\n",
              "      <td>Friend(s)</td>\n",
              "      <td>Sunny</td>\n",
              "      <td>80</td>\n",
              "      <td>2PM</td>\n",
              "      <td>Coffee House</td>\n",
              "      <td>2h</td>\n",
              "      <td>Female</td>\n",
              "      <td>21</td>\n",
              "      <td>Unmarried partner</td>\n",
              "      <td>...</td>\n",
              "      <td>never</td>\n",
              "      <td>NaN</td>\n",
              "      <td>4~8</td>\n",
              "      <td>1~3</td>\n",
              "      <td>1</td>\n",
              "      <td>1</td>\n",
              "      <td>0</td>\n",
              "      <td>0</td>\n",
              "      <td>1</td>\n",
              "      <td>0</td>\n",
              "    </tr>\n",
              "    <tr>\n",
              "      <th>4</th>\n",
              "      <td>No Urgent Place</td>\n",
              "      <td>Friend(s)</td>\n",
              "      <td>Sunny</td>\n",
              "      <td>80</td>\n",
              "      <td>2PM</td>\n",
              "      <td>Coffee House</td>\n",
              "      <td>1d</td>\n",
              "      <td>Female</td>\n",
              "      <td>21</td>\n",
              "      <td>Unmarried partner</td>\n",
              "      <td>...</td>\n",
              "      <td>never</td>\n",
              "      <td>NaN</td>\n",
              "      <td>4~8</td>\n",
              "      <td>1~3</td>\n",
              "      <td>1</td>\n",
              "      <td>1</td>\n",
              "      <td>0</td>\n",
              "      <td>0</td>\n",
              "      <td>1</td>\n",
              "      <td>0</td>\n",
              "    </tr>\n",
              "  </tbody>\n",
              "</table>\n",
              "<p>5 rows × 26 columns</p>\n",
              "</div>"
            ],
            "text/plain": [
              "       destination  passanger weather  temperature  time  \\\n",
              "0  No Urgent Place      Alone   Sunny           55   2PM   \n",
              "1  No Urgent Place  Friend(s)   Sunny           80  10AM   \n",
              "2  No Urgent Place  Friend(s)   Sunny           80  10AM   \n",
              "3  No Urgent Place  Friend(s)   Sunny           80   2PM   \n",
              "4  No Urgent Place  Friend(s)   Sunny           80   2PM   \n",
              "\n",
              "                  coupon expiration  gender age      maritalStatus  ...  \\\n",
              "0        Restaurant(<20)         1d  Female  21  Unmarried partner  ...   \n",
              "1           Coffee House         2h  Female  21  Unmarried partner  ...   \n",
              "2  Carry out & Take away         2h  Female  21  Unmarried partner  ...   \n",
              "3           Coffee House         2h  Female  21  Unmarried partner  ...   \n",
              "4           Coffee House         1d  Female  21  Unmarried partner  ...   \n",
              "\n",
              "   CoffeeHouse CarryAway RestaurantLessThan20 Restaurant20To50  \\\n",
              "0        never       NaN                  4~8              1~3   \n",
              "1        never       NaN                  4~8              1~3   \n",
              "2        never       NaN                  4~8              1~3   \n",
              "3        never       NaN                  4~8              1~3   \n",
              "4        never       NaN                  4~8              1~3   \n",
              "\n",
              "  toCoupon_GEQ5min toCoupon_GEQ15min toCoupon_GEQ25min direction_same  \\\n",
              "0                1                 0                 0              0   \n",
              "1                1                 0                 0              0   \n",
              "2                1                 1                 0              0   \n",
              "3                1                 1                 0              0   \n",
              "4                1                 1                 0              0   \n",
              "\n",
              "  direction_opp  Y  \n",
              "0             1  1  \n",
              "1             1  0  \n",
              "2             1  1  \n",
              "3             1  0  \n",
              "4             1  0  \n",
              "\n",
              "[5 rows x 26 columns]"
            ]
          },
          "execution_count": 17,
          "metadata": {},
          "output_type": "execute_result"
        }
      ],
      "source": [
        "data.head()"
      ]
    },
    {
      "cell_type": "markdown",
      "metadata": {
        "id": "GcDs78ZH_qRH"
      },
      "source": [
        "2. Investigate the dataset for missing or problematic data."
      ]
    },
    {
      "cell_type": "code",
      "execution_count": null,
      "metadata": {
        "id": "6CwL6oWj_qRH"
      },
      "outputs": [
        {
          "name": "stdout",
          "output_type": "stream",
          "text": [
            "<class 'pandas.core.frame.DataFrame'>\n",
            "RangeIndex: 12684 entries, 0 to 12683\n",
            "Data columns (total 26 columns):\n",
            " #   Column                Non-Null Count  Dtype \n",
            "---  ------                --------------  ----- \n",
            " 0   destination           12684 non-null  object\n",
            " 1   passanger             12684 non-null  object\n",
            " 2   weather               12684 non-null  object\n",
            " 3   temperature           12684 non-null  int64 \n",
            " 4   time                  12684 non-null  object\n",
            " 5   coupon                12684 non-null  object\n",
            " 6   expiration            12684 non-null  object\n",
            " 7   gender                12684 non-null  object\n",
            " 8   age                   12684 non-null  object\n",
            " 9   maritalStatus         12684 non-null  object\n",
            " 10  has_children          12684 non-null  int64 \n",
            " 11  education             12684 non-null  object\n",
            " 12  occupation            12684 non-null  object\n",
            " 13  income                12684 non-null  object\n",
            " 14  car                   108 non-null    object\n",
            " 15  Bar                   12577 non-null  object\n",
            " 16  CoffeeHouse           12467 non-null  object\n",
            " 17  CarryAway             12533 non-null  object\n",
            " 18  RestaurantLessThan20  12554 non-null  object\n",
            " 19  Restaurant20To50      12495 non-null  object\n",
            " 20  toCoupon_GEQ5min      12684 non-null  int64 \n",
            " 21  toCoupon_GEQ15min     12684 non-null  int64 \n",
            " 22  toCoupon_GEQ25min     12684 non-null  int64 \n",
            " 23  direction_same        12684 non-null  int64 \n",
            " 24  direction_opp         12684 non-null  int64 \n",
            " 25  Y                     12684 non-null  int64 \n",
            "dtypes: int64(8), object(18)\n",
            "memory usage: 2.5+ MB\n",
            "None\n"
          ]
        }
      ],
      "source": [
        "print(data.info())\n"
      ]
    },
    {
      "cell_type": "code",
      "execution_count": 19,
      "metadata": {},
      "outputs": [
        {
          "name": "stdout",
          "output_type": "stream",
          "text": [
            "destination             object\n",
            "passanger               object\n",
            "weather                 object\n",
            "temperature              int64\n",
            "time                    object\n",
            "coupon                  object\n",
            "expiration              object\n",
            "gender                  object\n",
            "age                     object\n",
            "maritalStatus           object\n",
            "has_children             int64\n",
            "education               object\n",
            "occupation              object\n",
            "income                  object\n",
            "car                     object\n",
            "Bar                     object\n",
            "CoffeeHouse             object\n",
            "CarryAway               object\n",
            "RestaurantLessThan20    object\n",
            "Restaurant20To50        object\n",
            "toCoupon_GEQ5min         int64\n",
            "toCoupon_GEQ15min        int64\n",
            "toCoupon_GEQ25min        int64\n",
            "direction_same           int64\n",
            "direction_opp            int64\n",
            "Y                        int64\n",
            "dtype: object\n"
          ]
        }
      ],
      "source": [
        "print(data.dtypes)\n"
      ]
    },
    {
      "cell_type": "code",
      "execution_count": 20,
      "metadata": {},
      "outputs": [
        {
          "name": "stdout",
          "output_type": "stream",
          "text": [
            "        temperature  has_children  toCoupon_GEQ5min  toCoupon_GEQ15min  \\\n",
            "count  12684.000000  12684.000000           12684.0       12684.000000   \n",
            "mean      63.301798      0.414144               1.0           0.561495   \n",
            "std       19.154486      0.492593               0.0           0.496224   \n",
            "min       30.000000      0.000000               1.0           0.000000   \n",
            "25%       55.000000      0.000000               1.0           0.000000   \n",
            "50%       80.000000      0.000000               1.0           1.000000   \n",
            "75%       80.000000      1.000000               1.0           1.000000   \n",
            "max       80.000000      1.000000               1.0           1.000000   \n",
            "\n",
            "       toCoupon_GEQ25min  direction_same  direction_opp             Y  \n",
            "count       12684.000000    12684.000000   12684.000000  12684.000000  \n",
            "mean            0.119126        0.214759       0.785241      0.568433  \n",
            "std             0.323950        0.410671       0.410671      0.495314  \n",
            "min             0.000000        0.000000       0.000000      0.000000  \n",
            "25%             0.000000        0.000000       1.000000      0.000000  \n",
            "50%             0.000000        0.000000       1.000000      1.000000  \n",
            "75%             0.000000        0.000000       1.000000      1.000000  \n",
            "max             1.000000        1.000000       1.000000      1.000000  \n"
          ]
        }
      ],
      "source": [
        "print(data.describe())\n"
      ]
    },
    {
      "cell_type": "code",
      "execution_count": 21,
      "metadata": {},
      "outputs": [
        {
          "data": {
            "text/plain": [
              "coupon\n",
              "Coffee House             3996\n",
              "Restaurant(<20)          2786\n",
              "Carry out & Take away    2393\n",
              "Bar                      2017\n",
              "Restaurant(20-50)        1492\n",
              "Name: count, dtype: int64"
            ]
          },
          "execution_count": 21,
          "metadata": {},
          "output_type": "execute_result"
        }
      ],
      "source": [
        "# Types of coupons\n",
        "data['coupon'].value_counts()"
      ]
    },
    {
      "cell_type": "markdown",
      "metadata": {},
      "source": [
        "### Data Cleaning\n"
      ]
    },
    {
      "cell_type": "markdown",
      "metadata": {
        "id": "bSdVSpYB_qRH"
      },
      "source": [
        "3. Decide what to do about your missing data -- drop, replace, other..."
      ]
    },
    {
      "cell_type": "markdown",
      "metadata": {},
      "source": [
        "#### Clean Age and rename column\n",
        "* Age is an obvious one because it is currently and object and not a numeric value.  \n",
        "* Also passenger is spelled wrong.  Rename passanger to passenger."
      ]
    },
    {
      "cell_type": "code",
      "execution_count": 22,
      "metadata": {
        "id": "tyvoAC5F_qRI"
      },
      "outputs": [
        {
          "data": {
            "text/plain": [
              "'below21'"
            ]
          },
          "execution_count": 22,
          "metadata": {},
          "output_type": "execute_result"
        }
      ],
      "source": [
        "#data['age'].min()\n",
        "data['age'].max()\n"
      ]
    },
    {
      "cell_type": "markdown",
      "metadata": {},
      "source": [
        "age.min = 21  \n",
        "age.max = 'below21'  \n",
        "**Note:** so we can set that to 20, so that we can convert and plot it correctly so str.replace 'below',''. The only real significance is when it comes to the Bar coupon. Which would be surprising if there were any that go to the bar if the age is \"below21\"\n",
        "\n",
        "There is also '50plus' > str.replace 'plus',''"
      ]
    },
    {
      "cell_type": "code",
      "execution_count": 23,
      "metadata": {},
      "outputs": [],
      "source": [
        "data['age'].value_counts()\n",
        "data['age'] = pd.to_numeric(data['age'].astype('str').str.replace('below21','20').str.replace('50plus','50'))\n",
        "\n"
      ]
    },
    {
      "cell_type": "code",
      "execution_count": null,
      "metadata": {},
      "outputs": [],
      "source": [
        "# Fix column name typo\n",
        "data = data.rename(columns={'passanger': 'passenger'})"
      ]
    },
    {
      "cell_type": "code",
      "execution_count": 25,
      "metadata": {},
      "outputs": [
        {
          "data": {
            "text/plain": [
              "destination             object\n",
              "passenger               object\n",
              "weather                 object\n",
              "temperature              int64\n",
              "time                    object\n",
              "coupon                  object\n",
              "expiration              object\n",
              "gender                  object\n",
              "age                      int64\n",
              "maritalStatus           object\n",
              "has_children             int64\n",
              "education               object\n",
              "occupation              object\n",
              "income                  object\n",
              "car                     object\n",
              "Bar                     object\n",
              "CoffeeHouse             object\n",
              "CarryAway               object\n",
              "RestaurantLessThan20    object\n",
              "Restaurant20To50        object\n",
              "toCoupon_GEQ5min         int64\n",
              "toCoupon_GEQ15min        int64\n",
              "toCoupon_GEQ25min        int64\n",
              "direction_same           int64\n",
              "direction_opp            int64\n",
              "Y                        int64\n",
              "dtype: object"
            ]
          },
          "execution_count": 25,
          "metadata": {},
          "output_type": "execute_result"
        }
      ],
      "source": [
        "# Double check dtypes\n",
        "data.dtypes"
      ]
    },
    {
      "cell_type": "markdown",
      "metadata": {},
      "source": [
        "#### Drop Values\n",
        "* The car column.  Hypothesis - why would the type of car matter on whether a coupon is accepted or not? "
      ]
    },
    {
      "cell_type": "code",
      "execution_count": 29,
      "metadata": {},
      "outputs": [
        {
          "data": {
            "text/plain": [
              "np.float64(0.8514664143803218)"
            ]
          },
          "execution_count": 29,
          "metadata": {},
          "output_type": "execute_result"
        }
      ],
      "source": [
        "#data['car'].value_counts()\n",
        "#data['car'].isna()\n",
        "percentage_of_na_car_values = (data['car'].notna().sum() / len(data['car'])) * 100\n",
        "percentage_of_na_car_values\n"
      ]
    },
    {
      "cell_type": "markdown",
      "metadata": {},
      "source": [
        ".85% of values provided for the car, the rest was NaN.  That's less than 1%.  So let's drop the car column.  Hypothesis is correct, the type of car does not matter on whether a coupon is accepted or not."
      ]
    },
    {
      "cell_type": "code",
      "execution_count": 12,
      "metadata": {},
      "outputs": [
        {
          "data": {
            "text/plain": [
              "destination             object\n",
              "passenger               object\n",
              "weather                 object\n",
              "temperature              int64\n",
              "time                    object\n",
              "coupon                  object\n",
              "expiration              object\n",
              "gender                  object\n",
              "age                      int64\n",
              "maritalStatus           object\n",
              "has_children             int64\n",
              "education               object\n",
              "occupation              object\n",
              "income                  object\n",
              "Bar                     object\n",
              "CoffeeHouse             object\n",
              "CarryAway               object\n",
              "RestaurantLessThan20    object\n",
              "Restaurant20To50        object\n",
              "toCoupon_GEQ5min         int64\n",
              "toCoupon_GEQ15min        int64\n",
              "toCoupon_GEQ25min        int64\n",
              "direction_same           int64\n",
              "direction_opp            int64\n",
              "Y                        int64\n",
              "dtype: object"
            ]
          },
          "execution_count": 12,
          "metadata": {},
          "output_type": "execute_result"
        }
      ],
      "source": [
        "data = data.drop(columns='car')\n",
        "data.dtypes"
      ]
    },
    {
      "cell_type": "markdown",
      "metadata": {},
      "source": [
        "We should double check for any high number of NaN."
      ]
    },
    {
      "cell_type": "code",
      "execution_count": 13,
      "metadata": {},
      "outputs": [
        {
          "data": {
            "text/plain": [
              "destination               0\n",
              "passenger                 0\n",
              "weather                   0\n",
              "temperature               0\n",
              "time                      0\n",
              "coupon                    0\n",
              "expiration                0\n",
              "gender                    0\n",
              "age                       0\n",
              "maritalStatus             0\n",
              "has_children              0\n",
              "education                 0\n",
              "occupation                0\n",
              "income                    0\n",
              "Bar                     107\n",
              "CoffeeHouse             217\n",
              "CarryAway               151\n",
              "RestaurantLessThan20    130\n",
              "Restaurant20To50        189\n",
              "toCoupon_GEQ5min          0\n",
              "toCoupon_GEQ15min         0\n",
              "toCoupon_GEQ25min         0\n",
              "direction_same            0\n",
              "direction_opp             0\n",
              "Y                         0\n",
              "dtype: int64"
            ]
          },
          "execution_count": 13,
          "metadata": {},
          "output_type": "execute_result"
        }
      ],
      "source": [
        "data.isnull().sum()"
      ]
    },
    {
      "cell_type": "markdown",
      "metadata": {},
      "source": [
        "Does education level have an impact on whether a coupon is used? Hypothesis is no. I would think that the higher education\n",
        "Less likely to use coupons because you would still be spending money vs saving it. However, the opposite is true. Higher education levels\n",
        "correlate with higher coupon usage."
      ]
    },
    {
      "cell_type": "code",
      "execution_count": null,
      "metadata": {},
      "outputs": [
        {
          "data": {
            "text/plain": [
              "education\n",
              "Some college - no degree                  2595\n",
              "Bachelors degree                          2403\n",
              "Graduate degree (Masters or Doctorate)     975\n",
              "Associates degree                          638\n",
              "High School Graduate                       536\n",
              "Some High School                            63\n",
              "Name: count, dtype: int64"
            ]
          },
          "execution_count": 207,
          "metadata": {},
          "output_type": "execute_result"
        }
      ],
      "source": [
        "# Did use the coupon\n",
        "data.query(\"Y == 1\")['education'].value_counts()"
      ]
    },
    {
      "cell_type": "code",
      "execution_count": null,
      "metadata": {},
      "outputs": [
        {
          "data": {
            "text/plain": [
              "education\n",
              "Bachelors degree                          1932\n",
              "Some college - no degree                  1756\n",
              "Graduate degree (Masters or Doctorate)     877\n",
              "Associates degree                          515\n",
              "High School Graduate                       369\n",
              "Some High School                            25\n",
              "Name: count, dtype: int64"
            ]
          },
          "execution_count": 208,
          "metadata": {},
          "output_type": "execute_result"
        }
      ],
      "source": [
        "# Did not use the coupon\n",
        "data.query(\"Y == 0\")['education'].value_counts()"
      ]
    },
    {
      "cell_type": "code",
      "execution_count": 43,
      "metadata": {},
      "outputs": [
        {
          "data": {
            "text/plain": [
              "347"
            ]
          },
          "execution_count": 43,
          "metadata": {},
          "output_type": "execute_result"
        }
      ],
      "source": [
        "#Ok so what does this look like in a visualization? \n",
        "#Also, how many people age 20, used a coupon?\n",
        "\n",
        "len(data.query('age == 20 & Y == 1'))"
      ]
    },
    {
      "cell_type": "code",
      "execution_count": 44,
      "metadata": {},
      "outputs": [
        {
          "data": {
            "text/plain": [
              "coupon\n",
              "Coffee House             108\n",
              "Restaurant(<20)           94\n",
              "Carry out & Take away     83\n",
              "Bar                       36\n",
              "Restaurant(20-50)         26\n",
              "Name: count, dtype: int64"
            ]
          },
          "execution_count": 44,
          "metadata": {},
          "output_type": "execute_result"
        }
      ],
      "source": [
        "data.query('age == 20 & Y == 1')['coupon'].value_counts()"
      ]
    },
    {
      "cell_type": "markdown",
      "metadata": {},
      "source": [
        "Despite the age limitations, there were 36 peopls \"below 21\" who used a coupon at a Bar.  "
      ]
    },
    {
      "cell_type": "markdown",
      "metadata": {
        "id": "YE6oJbXd_qRI"
      },
      "source": [
        "#### Proportion of total observations\n",
        "\n",
        "4. What proportion of the total observations chose to accept the coupon?  \n",
        "**56.84%**\n"
      ]
    },
    {
      "cell_type": "code",
      "execution_count": 146,
      "metadata": {
        "id": "86GGqBTv_qRI"
      },
      "outputs": [
        {
          "data": {
            "text/plain": [
              "np.float64(56.84326710816777)"
            ]
          },
          "execution_count": 146,
          "metadata": {},
          "output_type": "execute_result"
        }
      ],
      "source": [
        "accept_proption = ((data['Y'] == 1).sum() / data['Y'].count()) * 100 \n",
        "accept_proption"
      ]
    },
    {
      "cell_type": "code",
      "execution_count": 31,
      "metadata": {},
      "outputs": [
        {
          "data": {
            "text/plain": [
              "destination             object\n",
              "passenger               object\n",
              "weather                 object\n",
              "temperature              int64\n",
              "time                    object\n",
              "coupon                  object\n",
              "expiration              object\n",
              "gender                  object\n",
              "age                      int64\n",
              "maritalStatus           object\n",
              "has_children             int64\n",
              "education               object\n",
              "occupation              object\n",
              "income                  object\n",
              "car                     object\n",
              "Bar                     object\n",
              "CoffeeHouse             object\n",
              "CarryAway               object\n",
              "RestaurantLessThan20    object\n",
              "Restaurant20To50        object\n",
              "toCoupon_GEQ5min         int64\n",
              "toCoupon_GEQ15min        int64\n",
              "toCoupon_GEQ25min        int64\n",
              "direction_same           int64\n",
              "direction_opp            int64\n",
              "Y                        int64\n",
              "dtype: object"
            ]
          },
          "execution_count": 31,
          "metadata": {},
          "output_type": "execute_result"
        }
      ],
      "source": [
        "data.dtypes"
      ]
    },
    {
      "cell_type": "markdown",
      "metadata": {},
      "source": [
        "### Visualizations"
      ]
    },
    {
      "cell_type": "markdown",
      "metadata": {
        "id": "vflz0DoE_qRI"
      },
      "source": [
        "5. Use a bar plot to visualize the `coupon` column."
      ]
    },
    {
      "cell_type": "code",
      "execution_count": null,
      "metadata": {
        "id": "dHFh3E45_qRI"
      },
      "outputs": [
        {
          "data": {
            "image/png": "[encoded data removed]",
            "text/plain": [
              "<Figure size 640x480 with 1 Axes>"
            ]
          },
          "metadata": {},
          "output_type": "display_data"
        }
      ],
      "source": [
        "data['coupon'].value_counts().plot(kind='bar', title='Coupon Distribution')\n",
        "plt.xticks(rotation=45)\n",
        "plt.ylabel('# of coupons')\n",
        "plt.xlabel('coupon type')\n",
        "plt.tight_layout()\n",
        "plt.savefig(\"images/coupon_distribution.png\")\n",
        "plt.show()"
      ]
    },
    {
      "cell_type": "markdown",
      "metadata": {},
      "source": [
        "I was curious on what the expiration of each coupon type would be.  It turns out there are only 2 expiration times - 2hours, and 1 day."
      ]
    },
    {
      "cell_type": "code",
      "execution_count": 166,
      "metadata": {},
      "outputs": [
        {
          "data": {
            "image/png": "[encoded data removed]",
            "text/plain": [
              "<Figure size 640x480 with 1 Axes>"
            ]
          },
          "metadata": {},
          "output_type": "display_data"
        }
      ],
      "source": [
        "data.groupby(['coupon', 'expiration']).size().unstack().plot(kind='bar', stacked=True, title='Coupon Distribution by Expiration')\n",
        "plt.xlabel('Coupon')\n",
        "plt.ylabel('Count')\n",
        "plt.legend(title='Expiration')\n",
        "plt.xticks(rotation=45)\n",
        "plt.tight_layout()\n",
        "plt.savefig(\"images/coupon_distribution_by_expiration.png\")\n",
        "plt.show()"
      ]
    },
    {
      "cell_type": "markdown",
      "metadata": {},
      "source": [
        "I was curious to see if gender or age made a difference on wether coupons were accepted or not.  So I took a look. "
      ]
    },
    {
      "cell_type": "code",
      "execution_count": 210,
      "metadata": {},
      "outputs": [
        {
          "data": {
            "image/png": "[encoded data removed]",
            "text/plain": [
              "<Figure size 640x480 with 1 Axes>"
            ]
          },
          "metadata": {},
          "output_type": "display_data"
        }
      ],
      "source": [
        "data.groupby(['gender', 'Y']).size().unstack().plot(kind='bar', stacked=True, title='Coupon Acceptance by Gender')\n",
        "plt.xlabel('Gender')\n",
        "plt.ylabel('Coupon Acceptance')\n",
        "plt.legend(title='Coupon Acceptance')\n",
        "plt.xticks(rotation=45)\n",
        "plt.tight_layout()\n",
        "plt.show()"
      ]
    },
    {
      "cell_type": "code",
      "execution_count": 214,
      "metadata": {},
      "outputs": [
        {
          "name": "stdout",
          "output_type": "stream",
          "text": [
            "gender  Y\n",
            "Female  1    3563\n",
            "        0    2948\n",
            "Male    1    3647\n",
            "        0    2526\n",
            "Name: count, dtype: int64\n"
          ]
        }
      ],
      "source": [
        "print(data.groupby('gender')['Y'].value_counts())"
      ]
    },
    {
      "cell_type": "code",
      "execution_count": 241,
      "metadata": {},
      "outputs": [
        {
          "data": {
            "text/plain": [
              "50.58252427184466"
            ]
          },
          "execution_count": 241,
          "metadata": {},
          "output_type": "execute_result"
        }
      ],
      "source": [
        "men_accepted_coupons = len(data[(data['Y'] == 1) & (data['gender'] == 'Male')]) \n",
        "total_coupons_accepted = len(data.query(\"Y == 1\"))\n",
        "percentage_of_male_accepted = (men_accepted_coupons / total_coupons_accepted) * 100\n",
        "percentage_of_male_accepted"
      ]
    },
    {
      "cell_type": "markdown",
      "metadata": {},
      "source": [
        "Gender did not have a play in coupon acceptance.  "
      ]
    },
    {
      "cell_type": "code",
      "execution_count": 257,
      "metadata": {},
      "outputs": [
        {
          "data": {
            "image/png": "[encoded data removed]",
            "text/plain": [
              "<Figure size 640x480 with 1 Axes>"
            ]
          },
          "metadata": {},
          "output_type": "display_data"
        }
      ],
      "source": [
        "men_accepted_coupons_by_age = data[(data['Y'] == 1) & (data['gender'] == 'Male')]['age'].value_counts()\n",
        "men_accepted_coupons_by_age.sort_index().plot(kind='bar', title='Male accepted coupons by age')\n",
        "plt.show()"
      ]
    },
    {
      "cell_type": "code",
      "execution_count": 256,
      "metadata": {},
      "outputs": [
        {
          "data": {
            "image/png": "[encoded data removed]",
            "text/plain": [
              "<Figure size 640x480 with 1 Axes>"
            ]
          },
          "metadata": {},
          "output_type": "display_data"
        }
      ],
      "source": [
        "female_accepted_coupons_by_age = data[(data['Y'] == 1) & (data['gender'] == 'Female')]['age'].value_counts()\n",
        "female_accepted_coupons_by_age.sort_index().plot(kind='bar', title='Female accepted coupons by age')\n",
        "plt.show()"
      ]
    },
    {
      "cell_type": "code",
      "execution_count": 52,
      "metadata": {},
      "outputs": [
        {
          "name": "stdout",
          "output_type": "stream",
          "text": [
            "destination      Y\n",
            "Home             1    1639\n",
            "                 0    1598\n",
            "No Urgent Place  1    3982\n",
            "                 0    2301\n",
            "Work             1    1589\n",
            "                 0    1575\n",
            "Name: count, dtype: int64\n"
          ]
        }
      ],
      "source": [
        "print(data.groupby('destination')['Y'].value_counts())"
      ]
    },
    {
      "cell_type": "markdown",
      "metadata": {},
      "source": [
        "Based on the data, gender did not have significant factor on coupon acceptance. However, based on the plots above, the age group 21-31 were more likely to accept the coupon."
      ]
    },
    {
      "cell_type": "code",
      "execution_count": 259,
      "metadata": {},
      "outputs": [
        {
          "data": {
            "text/plain": [
              "55.22884882108183"
            ]
          },
          "execution_count": 259,
          "metadata": {},
          "output_type": "execute_result"
        }
      ],
      "source": [
        "no_urgent_destination = len(data[(data['Y'] == 1) & (data['destination'] == 'No Urgent Place')])\n",
        "no_urgent_desination_percentage = (no_urgent_destination / total_coupons_accepted) * 100\n",
        "no_urgent_desination_percentage"
      ]
    },
    {
      "cell_type": "markdown",
      "metadata": {
        "id": "Qw4lCyx2_qRI"
      },
      "source": [
        "6. Use a histogram to visualize the temperature column."
      ]
    },
    {
      "cell_type": "code",
      "execution_count": null,
      "metadata": {
        "id": "Yg9Anv71_qRI"
      },
      "outputs": [
        {
          "data": {
            "text/plain": [
              "<Axes: title={'center': 'Temperature Distribution'}, ylabel='Frequency'>"
            ]
          },
          "execution_count": 177,
          "metadata": {},
          "output_type": "execute_result"
        },
        {
          "data": {
            "image/png": "[encoded data removed]",
            "text/plain": [
              "<Figure size 640x480 with 1 Axes>"
            ]
          },
          "metadata": {},
          "output_type": "display_data"
        }
      ],
      "source": [
        "data['temperature'].plot(kind='hist', bins=20, title='Temperature Distribution')"
      ]
    },
    {
      "cell_type": "code",
      "execution_count": 266,
      "metadata": {
        "id": "7GBHZKBp_qRJ"
      },
      "outputs": [
        {
          "data": {
            "text/plain": [
              "passenger\n",
              "Alone        3841\n",
              "Friend(s)    2221\n",
              "Partner       640\n",
              "Kid(s)        508\n",
              "Name: count, dtype: int64"
            ]
          },
          "execution_count": 266,
          "metadata": {},
          "output_type": "execute_result"
        }
      ],
      "source": [
        "data[data['Y'] == 1]['passenger'].value_counts()"
      ]
    },
    {
      "cell_type": "markdown",
      "metadata": {
        "id": "Y5nBUA-j_qRJ"
      },
      "source": [
        "More likely to accept the coupon when traveling Alone or with Friend(s) vs w/ a partner or kid(s).  "
      ]
    },
    {
      "cell_type": "code",
      "execution_count": 267,
      "metadata": {
        "id": "ShcUC-Vm_qRJ"
      },
      "outputs": [
        {
          "data": {
            "text/plain": [
              "time\n",
              "6PM     1888\n",
              "7AM     1589\n",
              "10AM    1384\n",
              "2PM     1329\n",
              "10PM    1020\n",
              "Name: count, dtype: int64"
            ]
          },
          "execution_count": 267,
          "metadata": {},
          "output_type": "execute_result"
        }
      ],
      "source": [
        "data[data['Y'] == 1]['time'].value_counts()"
      ]
    },
    {
      "cell_type": "markdown",
      "metadata": {
        "id": "FupfgeJk_qRJ"
      },
      "source": [
        "**Investigating the Bar Coupons**\n",
        "\n",
        "Now, we will lead you through an exploration of just the bar related coupons.  \n",
        "\n",
        "1. Create a new `DataFrame` that contains just the bar coupons.\n"
      ]
    },
    {
      "cell_type": "code",
      "execution_count": 93,
      "metadata": {
        "id": "tMBlWuGq_qRJ"
      },
      "outputs": [
        {
          "data": {
            "text/html": [
              "<div>\n",
              "<style scoped>\n",
              "    .dataframe tbody tr th:only-of-type {\n",
              "        vertical-align: middle;\n",
              "    }\n",
              "\n",
              "    .dataframe tbody tr th {\n",
              "        vertical-align: top;\n",
              "    }\n",
              "\n",
              "    .dataframe thead th {\n",
              "        text-align: right;\n",
              "    }\n",
              "</style>\n",
              "<table border=\"1\" class=\"dataframe\">\n",
              "  <thead>\n",
              "    <tr style=\"text-align: right;\">\n",
              "      <th></th>\n",
              "      <th>destination</th>\n",
              "      <th>passenger</th>\n",
              "      <th>weather</th>\n",
              "      <th>temperature</th>\n",
              "      <th>time</th>\n",
              "      <th>coupon</th>\n",
              "      <th>expiration</th>\n",
              "      <th>gender</th>\n",
              "      <th>age</th>\n",
              "      <th>maritalStatus</th>\n",
              "      <th>...</th>\n",
              "      <th>CoffeeHouse</th>\n",
              "      <th>CarryAway</th>\n",
              "      <th>RestaurantLessThan20</th>\n",
              "      <th>Restaurant20To50</th>\n",
              "      <th>toCoupon_GEQ5min</th>\n",
              "      <th>toCoupon_GEQ15min</th>\n",
              "      <th>toCoupon_GEQ25min</th>\n",
              "      <th>direction_same</th>\n",
              "      <th>direction_opp</th>\n",
              "      <th>Y</th>\n",
              "    </tr>\n",
              "  </thead>\n",
              "  <tbody>\n",
              "    <tr>\n",
              "      <th>9</th>\n",
              "      <td>No Urgent Place</td>\n",
              "      <td>Kid(s)</td>\n",
              "      <td>Sunny</td>\n",
              "      <td>80</td>\n",
              "      <td>10AM</td>\n",
              "      <td>Bar</td>\n",
              "      <td>1d</td>\n",
              "      <td>Female</td>\n",
              "      <td>21</td>\n",
              "      <td>Unmarried partner</td>\n",
              "      <td>...</td>\n",
              "      <td>never</td>\n",
              "      <td>NaN</td>\n",
              "      <td>4~8</td>\n",
              "      <td>1~3</td>\n",
              "      <td>1</td>\n",
              "      <td>1</td>\n",
              "      <td>0</td>\n",
              "      <td>0</td>\n",
              "      <td>1</td>\n",
              "      <td>0</td>\n",
              "    </tr>\n",
              "    <tr>\n",
              "      <th>13</th>\n",
              "      <td>Home</td>\n",
              "      <td>Alone</td>\n",
              "      <td>Sunny</td>\n",
              "      <td>55</td>\n",
              "      <td>6PM</td>\n",
              "      <td>Bar</td>\n",
              "      <td>1d</td>\n",
              "      <td>Female</td>\n",
              "      <td>21</td>\n",
              "      <td>Unmarried partner</td>\n",
              "      <td>...</td>\n",
              "      <td>never</td>\n",
              "      <td>NaN</td>\n",
              "      <td>4~8</td>\n",
              "      <td>1~3</td>\n",
              "      <td>1</td>\n",
              "      <td>0</td>\n",
              "      <td>0</td>\n",
              "      <td>1</td>\n",
              "      <td>0</td>\n",
              "      <td>1</td>\n",
              "    </tr>\n",
              "    <tr>\n",
              "      <th>17</th>\n",
              "      <td>Work</td>\n",
              "      <td>Alone</td>\n",
              "      <td>Sunny</td>\n",
              "      <td>55</td>\n",
              "      <td>7AM</td>\n",
              "      <td>Bar</td>\n",
              "      <td>1d</td>\n",
              "      <td>Female</td>\n",
              "      <td>21</td>\n",
              "      <td>Unmarried partner</td>\n",
              "      <td>...</td>\n",
              "      <td>never</td>\n",
              "      <td>NaN</td>\n",
              "      <td>4~8</td>\n",
              "      <td>1~3</td>\n",
              "      <td>1</td>\n",
              "      <td>1</td>\n",
              "      <td>1</td>\n",
              "      <td>0</td>\n",
              "      <td>1</td>\n",
              "      <td>0</td>\n",
              "    </tr>\n",
              "    <tr>\n",
              "      <th>24</th>\n",
              "      <td>No Urgent Place</td>\n",
              "      <td>Friend(s)</td>\n",
              "      <td>Sunny</td>\n",
              "      <td>80</td>\n",
              "      <td>10AM</td>\n",
              "      <td>Bar</td>\n",
              "      <td>1d</td>\n",
              "      <td>Male</td>\n",
              "      <td>21</td>\n",
              "      <td>Single</td>\n",
              "      <td>...</td>\n",
              "      <td>less1</td>\n",
              "      <td>4~8</td>\n",
              "      <td>4~8</td>\n",
              "      <td>less1</td>\n",
              "      <td>1</td>\n",
              "      <td>0</td>\n",
              "      <td>0</td>\n",
              "      <td>0</td>\n",
              "      <td>1</td>\n",
              "      <td>1</td>\n",
              "    </tr>\n",
              "    <tr>\n",
              "      <th>35</th>\n",
              "      <td>Home</td>\n",
              "      <td>Alone</td>\n",
              "      <td>Sunny</td>\n",
              "      <td>55</td>\n",
              "      <td>6PM</td>\n",
              "      <td>Bar</td>\n",
              "      <td>1d</td>\n",
              "      <td>Male</td>\n",
              "      <td>21</td>\n",
              "      <td>Single</td>\n",
              "      <td>...</td>\n",
              "      <td>less1</td>\n",
              "      <td>4~8</td>\n",
              "      <td>4~8</td>\n",
              "      <td>less1</td>\n",
              "      <td>1</td>\n",
              "      <td>0</td>\n",
              "      <td>0</td>\n",
              "      <td>1</td>\n",
              "      <td>0</td>\n",
              "      <td>1</td>\n",
              "    </tr>\n",
              "    <tr>\n",
              "      <th>...</th>\n",
              "      <td>...</td>\n",
              "      <td>...</td>\n",
              "      <td>...</td>\n",
              "      <td>...</td>\n",
              "      <td>...</td>\n",
              "      <td>...</td>\n",
              "      <td>...</td>\n",
              "      <td>...</td>\n",
              "      <td>...</td>\n",
              "      <td>...</td>\n",
              "      <td>...</td>\n",
              "      <td>...</td>\n",
              "      <td>...</td>\n",
              "      <td>...</td>\n",
              "      <td>...</td>\n",
              "      <td>...</td>\n",
              "      <td>...</td>\n",
              "      <td>...</td>\n",
              "      <td>...</td>\n",
              "      <td>...</td>\n",
              "      <td>...</td>\n",
              "    </tr>\n",
              "    <tr>\n",
              "      <th>12663</th>\n",
              "      <td>No Urgent Place</td>\n",
              "      <td>Friend(s)</td>\n",
              "      <td>Sunny</td>\n",
              "      <td>80</td>\n",
              "      <td>10PM</td>\n",
              "      <td>Bar</td>\n",
              "      <td>1d</td>\n",
              "      <td>Male</td>\n",
              "      <td>26</td>\n",
              "      <td>Single</td>\n",
              "      <td>...</td>\n",
              "      <td>never</td>\n",
              "      <td>1~3</td>\n",
              "      <td>4~8</td>\n",
              "      <td>1~3</td>\n",
              "      <td>1</td>\n",
              "      <td>1</td>\n",
              "      <td>0</td>\n",
              "      <td>0</td>\n",
              "      <td>1</td>\n",
              "      <td>0</td>\n",
              "    </tr>\n",
              "    <tr>\n",
              "      <th>12664</th>\n",
              "      <td>No Urgent Place</td>\n",
              "      <td>Friend(s)</td>\n",
              "      <td>Sunny</td>\n",
              "      <td>55</td>\n",
              "      <td>10PM</td>\n",
              "      <td>Bar</td>\n",
              "      <td>2h</td>\n",
              "      <td>Male</td>\n",
              "      <td>26</td>\n",
              "      <td>Single</td>\n",
              "      <td>...</td>\n",
              "      <td>never</td>\n",
              "      <td>1~3</td>\n",
              "      <td>4~8</td>\n",
              "      <td>1~3</td>\n",
              "      <td>1</td>\n",
              "      <td>1</td>\n",
              "      <td>0</td>\n",
              "      <td>0</td>\n",
              "      <td>1</td>\n",
              "      <td>0</td>\n",
              "    </tr>\n",
              "    <tr>\n",
              "      <th>12667</th>\n",
              "      <td>No Urgent Place</td>\n",
              "      <td>Alone</td>\n",
              "      <td>Rainy</td>\n",
              "      <td>55</td>\n",
              "      <td>10AM</td>\n",
              "      <td>Bar</td>\n",
              "      <td>1d</td>\n",
              "      <td>Male</td>\n",
              "      <td>26</td>\n",
              "      <td>Single</td>\n",
              "      <td>...</td>\n",
              "      <td>never</td>\n",
              "      <td>1~3</td>\n",
              "      <td>4~8</td>\n",
              "      <td>1~3</td>\n",
              "      <td>1</td>\n",
              "      <td>1</td>\n",
              "      <td>0</td>\n",
              "      <td>0</td>\n",
              "      <td>1</td>\n",
              "      <td>0</td>\n",
              "    </tr>\n",
              "    <tr>\n",
              "      <th>12670</th>\n",
              "      <td>No Urgent Place</td>\n",
              "      <td>Partner</td>\n",
              "      <td>Rainy</td>\n",
              "      <td>55</td>\n",
              "      <td>6PM</td>\n",
              "      <td>Bar</td>\n",
              "      <td>2h</td>\n",
              "      <td>Male</td>\n",
              "      <td>26</td>\n",
              "      <td>Single</td>\n",
              "      <td>...</td>\n",
              "      <td>never</td>\n",
              "      <td>1~3</td>\n",
              "      <td>4~8</td>\n",
              "      <td>1~3</td>\n",
              "      <td>1</td>\n",
              "      <td>1</td>\n",
              "      <td>0</td>\n",
              "      <td>0</td>\n",
              "      <td>1</td>\n",
              "      <td>0</td>\n",
              "    </tr>\n",
              "    <tr>\n",
              "      <th>12682</th>\n",
              "      <td>Work</td>\n",
              "      <td>Alone</td>\n",
              "      <td>Snowy</td>\n",
              "      <td>30</td>\n",
              "      <td>7AM</td>\n",
              "      <td>Bar</td>\n",
              "      <td>1d</td>\n",
              "      <td>Male</td>\n",
              "      <td>26</td>\n",
              "      <td>Single</td>\n",
              "      <td>...</td>\n",
              "      <td>never</td>\n",
              "      <td>1~3</td>\n",
              "      <td>4~8</td>\n",
              "      <td>1~3</td>\n",
              "      <td>1</td>\n",
              "      <td>1</td>\n",
              "      <td>1</td>\n",
              "      <td>0</td>\n",
              "      <td>1</td>\n",
              "      <td>0</td>\n",
              "    </tr>\n",
              "  </tbody>\n",
              "</table>\n",
              "<p>2017 rows × 26 columns</p>\n",
              "</div>"
            ],
            "text/plain": [
              "           destination  passenger weather  temperature  time coupon  \\\n",
              "9      No Urgent Place     Kid(s)   Sunny           80  10AM    Bar   \n",
              "13                Home      Alone   Sunny           55   6PM    Bar   \n",
              "17                Work      Alone   Sunny           55   7AM    Bar   \n",
              "24     No Urgent Place  Friend(s)   Sunny           80  10AM    Bar   \n",
              "35                Home      Alone   Sunny           55   6PM    Bar   \n",
              "...                ...        ...     ...          ...   ...    ...   \n",
              "12663  No Urgent Place  Friend(s)   Sunny           80  10PM    Bar   \n",
              "12664  No Urgent Place  Friend(s)   Sunny           55  10PM    Bar   \n",
              "12667  No Urgent Place      Alone   Rainy           55  10AM    Bar   \n",
              "12670  No Urgent Place    Partner   Rainy           55   6PM    Bar   \n",
              "12682             Work      Alone   Snowy           30   7AM    Bar   \n",
              "\n",
              "      expiration  gender  age      maritalStatus  ...  CoffeeHouse CarryAway  \\\n",
              "9             1d  Female   21  Unmarried partner  ...        never       NaN   \n",
              "13            1d  Female   21  Unmarried partner  ...        never       NaN   \n",
              "17            1d  Female   21  Unmarried partner  ...        never       NaN   \n",
              "24            1d    Male   21             Single  ...        less1       4~8   \n",
              "35            1d    Male   21             Single  ...        less1       4~8   \n",
              "...          ...     ...  ...                ...  ...          ...       ...   \n",
              "12663         1d    Male   26             Single  ...        never       1~3   \n",
              "12664         2h    Male   26             Single  ...        never       1~3   \n",
              "12667         1d    Male   26             Single  ...        never       1~3   \n",
              "12670         2h    Male   26             Single  ...        never       1~3   \n",
              "12682         1d    Male   26             Single  ...        never       1~3   \n",
              "\n",
              "      RestaurantLessThan20 Restaurant20To50 toCoupon_GEQ5min  \\\n",
              "9                      4~8              1~3                1   \n",
              "13                     4~8              1~3                1   \n",
              "17                     4~8              1~3                1   \n",
              "24                     4~8            less1                1   \n",
              "35                     4~8            less1                1   \n",
              "...                    ...              ...              ...   \n",
              "12663                  4~8              1~3                1   \n",
              "12664                  4~8              1~3                1   \n",
              "12667                  4~8              1~3                1   \n",
              "12670                  4~8              1~3                1   \n",
              "12682                  4~8              1~3                1   \n",
              "\n",
              "      toCoupon_GEQ15min toCoupon_GEQ25min direction_same direction_opp  Y  \n",
              "9                     1                 0              0             1  0  \n",
              "13                    0                 0              1             0  1  \n",
              "17                    1                 1              0             1  0  \n",
              "24                    0                 0              0             1  1  \n",
              "35                    0                 0              1             0  1  \n",
              "...                 ...               ...            ...           ... ..  \n",
              "12663                 1                 0              0             1  0  \n",
              "12664                 1                 0              0             1  0  \n",
              "12667                 1                 0              0             1  0  \n",
              "12670                 1                 0              0             1  0  \n",
              "12682                 1                 1              0             1  0  \n",
              "\n",
              "[2017 rows x 26 columns]"
            ]
          },
          "execution_count": 93,
          "metadata": {},
          "output_type": "execute_result"
        }
      ],
      "source": [
        "bar_only = data.query(\"coupon == 'Bar'\")\n",
        "bar_only"
      ]
    },
    {
      "cell_type": "code",
      "execution_count": null,
      "metadata": {},
      "outputs": [
        {
          "data": {
            "text/plain": [
              "np.int64(2017)"
            ]
          },
          "execution_count": 115,
          "metadata": {},
          "output_type": "execute_result"
        }
      ],
      "source": [
        "# Let's get the count of the bar_only coupons\n",
        "bar_only_total = bar_only['Y'].count()\n",
        "bar_only_total"
      ]
    },
    {
      "cell_type": "markdown",
      "metadata": {
        "id": "8ue6uCqf_qRJ"
      },
      "source": [
        "2. What proportion of bar coupons were accepted?\n"
      ]
    },
    {
      "cell_type": "code",
      "execution_count": null,
      "metadata": {},
      "outputs": [
        {
          "data": {
            "text/plain": [
              "np.int64(827)"
            ]
          },
          "execution_count": 116,
          "metadata": {},
          "output_type": "execute_result"
        }
      ],
      "source": [
        "# Get the count of accepted bar only coupons\n",
        "bar_only_accepted = data.query(\"coupon == 'Bar' & Y == 1\")['Y'].count()\n",
        "bar_only_accepted"
      ]
    },
    {
      "cell_type": "code",
      "execution_count": null,
      "metadata": {
        "id": "hSdte8Mi_qRK"
      },
      "outputs": [
        {
          "data": {
            "text/plain": [
              "np.float64(0.41001487357461575)"
            ]
          },
          "execution_count": 117,
          "metadata": {},
          "output_type": "execute_result"
        }
      ],
      "source": [
        "# Calculate the proportion\n",
        "bar_only_accept_proption = bar_only_accepted / bar_only_total\n",
        "bar_only_accept_proption"
      ]
    },
    {
      "cell_type": "markdown",
      "metadata": {},
      "source": [
        "**41%** of bar related coupons were accepted."
      ]
    },
    {
      "cell_type": "markdown",
      "metadata": {
        "id": "85nA_iEi_qRK"
      },
      "source": [
        "3. Compare the acceptance rate between those who went to a bar 3 or fewer times a month to those who went more.\n"
      ]
    },
    {
      "cell_type": "code",
      "execution_count": 125,
      "metadata": {},
      "outputs": [
        {
          "data": {
            "text/plain": [
              "Bar\n",
              "never    830\n",
              "less1    570\n",
              "1~3      397\n",
              "4~8      150\n",
              "gt8       49\n",
              "NaN       21\n",
              "Name: count, dtype: int64"
            ]
          },
          "execution_count": 125,
          "metadata": {},
          "output_type": "execute_result"
        }
      ],
      "source": [
        "bar_only['Bar'].value_counts(dropna=False)"
      ]
    },
    {
      "cell_type": "code",
      "execution_count": null,
      "metadata": {
        "id": "LBOrN-XM_qRK"
      },
      "outputs": [
        {
          "name": "stderr",
          "output_type": "stream",
          "text": [
            "/var/folders/6d/ck5smpg54d5795y6312lbcv40000gn/T/ipykernel_1598/905716978.py:1: UserWarning: Boolean Series key will be reindexed to match DataFrame index.\n",
            "  bar_lt3 = bar_only[bar_only['Bar'].isin(['never','less1','1~3']) & (data['Y'] == 1)]\n",
            "/var/folders/6d/ck5smpg54d5795y6312lbcv40000gn/T/ipykernel_1598/905716978.py:5: UserWarning: Boolean Series key will be reindexed to match DataFrame index.\n",
            "  bar_mt3 = bar_only[bar_only['Bar'].isin(['4~8','gt8']) & (data['Y'] == 1)]\n"
          ]
        },
        {
          "data": {
            "text/plain": [
              "np.int64(153)"
            ]
          },
          "execution_count": 121,
          "metadata": {},
          "output_type": "execute_result"
        }
      ],
      "source": [
        "\n",
        "bar_lt3 = bar_only[bar_only['Bar'].isin(['never','less1','1~3']) & (data['Y'] == 1)]\n",
        "bar_lt3['Y'].count()\n",
        "#666\n",
        "\n",
        "bar_mt3 = bar_only[bar_only['Bar'].isin(['4~8','gt8']) & (data['Y'] == 1)]\n",
        "bar_mt3['Y'].count()\n",
        "# 153"
      ]
    },
    {
      "cell_type": "code",
      "execution_count": 135,
      "metadata": {},
      "outputs": [
        {
          "data": {
            "text/plain": [
              "np.float64(0.8053204353083434)"
            ]
          },
          "execution_count": 135,
          "metadata": {},
          "output_type": "execute_result"
        }
      ],
      "source": [
        "bar_lt3_acceptance_rate = bar_lt3['Y'].count() / bar_only_accepted\n",
        "bar_lt3_acceptance_rate"
      ]
    },
    {
      "cell_type": "markdown",
      "metadata": {},
      "source": [
        "Surprisingly, subjects who went to a bar 3 or fewer times a month accepted the coupons more than the folks who went more than 4 times a month. "
      ]
    },
    {
      "cell_type": "markdown",
      "metadata": {
        "id": "RBgcQwH4_qRK"
      },
      "source": [
        "4. Compare the acceptance rate between drivers who go to a bar more than once a month and are over the age of 25 to the all others.  Is there a difference?\n"
      ]
    },
    {
      "cell_type": "code",
      "execution_count": 134,
      "metadata": {},
      "outputs": [
        {
          "name": "stderr",
          "output_type": "stream",
          "text": [
            "/var/folders/6d/ck5smpg54d5795y6312lbcv40000gn/T/ipykernel_1598/743526459.py:1: UserWarning: Boolean Series key will be reindexed to match DataFrame index.\n",
            "  bar_25_mt_1x = bar_only[bar_only['Bar'].isin(['1~3','4~8','gt8']) & (data['Y'] == 1) & (data['age'] >= 25)]\n"
          ]
        },
        {
          "data": {
            "text/plain": [
              "np.float64(0.35308343409915355)"
            ]
          },
          "execution_count": 134,
          "metadata": {},
          "output_type": "execute_result"
        }
      ],
      "source": [
        "bar_25_mt_1x = bar_only[bar_only['Bar'].isin(['1~3','4~8','gt8']) & (data['Y'] == 1) & (data['age'] >= 25)]\n",
        "bar_25_acceptance_rate = bar_25_mt_1x['Y'].count() / bar_only_accepted\n",
        "bar_25_acceptance_rate"
      ]
    },
    {
      "cell_type": "code",
      "execution_count": 132,
      "metadata": {
        "id": "bf28bbeX_qRK"
      },
      "outputs": [
        {
          "name": "stderr",
          "output_type": "stream",
          "text": [
            "/var/folders/6d/ck5smpg54d5795y6312lbcv40000gn/T/ipykernel_1598/267427471.py:1: UserWarning: Boolean Series key will be reindexed to match DataFrame index.\n",
            "  not_bar_25_mt_1x = bar_only[bar_only['Bar'].isin(['never','less1']) & (data['Y'] == 1) & (data['age'] < 25)]\n"
          ]
        },
        {
          "data": {
            "text/plain": [
              "np.float64(0.15598548972188633)"
            ]
          },
          "execution_count": 132,
          "metadata": {},
          "output_type": "execute_result"
        }
      ],
      "source": [
        "not_bar_25_mt_1x = bar_only[bar_only['Bar'].isin(['never','less1']) & (data['Y'] == 1) & (data['age'] < 25)]\n",
        "not_bar_25_acceptance_rate = not_bar_25_mt_1x['Y'].count() / bar_only_accepted\n",
        "not_bar_25_acceptance_rate\n"
      ]
    },
    {
      "cell_type": "markdown",
      "metadata": {
        "id": "S4RKT4PJ_qRK"
      },
      "source": [
        "5. Use the same process to compare the acceptance rate between drivers who go to bars more than once a month and had passengers that were not a kid and had occupations other than farming, fishing, or forestry.\n"
      ]
    },
    {
      "cell_type": "code",
      "execution_count": 154,
      "metadata": {
        "id": "sENaI2Tg_qRK"
      },
      "outputs": [
        {
          "data": {
            "image/png": "[encoded data removed]",
            "text/plain": [
              "<Figure size 640x480 with 1 Axes>"
            ]
          },
          "metadata": {},
          "output_type": "display_data"
        }
      ],
      "source": [
        "# let's take at the value counts of occupations in relation to question 5 as I haven't even looked at occupations yet. \n",
        "bar_only.query(\"occupation != 'Farming Fishing & Forestry' & Bar.isin(['1~3','4~8','gt8']) & passenger != 'Kid(s)'\")['occupation'].value_counts().plot(kind='bar', title='Occupation Distribution for Bar goers 1 or more times a month') \n",
        "plt.ylabel('# of people')\n",
        "plt.xlabel('Occupation')\n",
        "plt.tight_layout()\n",
        "plt.savefig(\"images/occupation_distribution.png\")\n",
        "plt.show()"
      ]
    },
    {
      "cell_type": "code",
      "execution_count": null,
      "metadata": {},
      "outputs": [
        {
          "data": {
            "text/plain": [
              "occupation\n",
              "Unemployed                                   74\n",
              "Student                                      68\n",
              "Sales & Related                              63\n",
              "Computer & Mathematical                      50\n",
              "Management                                   47\n",
              "Office & Administrative Support              41\n",
              "Arts Design Entertainment Sports & Media     25\n",
              "Business & Financial                         25\n",
              "Education&Training&Library                   20\n",
              "Legal                                        17\n",
              "Food Preparation & Serving Related           14\n",
              "Healthcare Practitioners & Technical         14\n",
              "Protective Service                           14\n",
              "Transportation & Material Moving             13\n",
              "Healthcare Support                           11\n",
              "Production Occupations                       10\n",
              "Installation Maintenance & Repair             9\n",
              "Personal Care & Service                       8\n",
              "Construction & Extraction                     7\n",
              "Architecture & Engineering                    6\n",
              "Community & Social Services                   6\n",
              "Retired                                       4\n",
              "Life Physical Social Science                  3\n",
              "Building & Grounds Cleaning & Maintenance     2\n",
              "Name: count, dtype: int64"
            ]
          },
          "execution_count": 153,
          "metadata": {},
          "output_type": "execute_result"
        }
      ],
      "source": [
        "bar_only.query(\"occupation != 'Farming Fishing & Forestry' & Bar.isin(['1~3','4~8','gt8']) & passenger != 'Kid(s)'\")['occupation'].value_counts()"
      ]
    },
    {
      "cell_type": "markdown",
      "metadata": {
        "id": "n2LIUTil_qRK"
      },
      "source": [
        "6. Compare the acceptance rates between those drivers who:\n",
        "\n",
        "- go to bars more than once a month, had passengers that were not a kid, and were not widowed *OR*\n",
        "- go to bars more than once a month and are under the age of 30 *OR*\n",
        "- go to cheap restaurants more than 4 times a month and income is less than 50K.\n",
        "\n"
      ]
    },
    {
      "cell_type": "code",
      "execution_count": 158,
      "metadata": {
        "id": "aK_wEzx7_qRK"
      },
      "outputs": [
        {
          "data": {
            "text/plain": [
              "np.float64(0.6662636033857315)"
            ]
          },
          "execution_count": 158,
          "metadata": {},
          "output_type": "execute_result"
        }
      ],
      "source": [
        "# go to bars more than once a month, had passengers that were not a kid, and were not widowed\n",
        "#data['maritalStatus'].value_counts()\n",
        "query1 = bar_only.query(\"maritalStatus != 'Widowed' & Bar.isin(['1~3','4~8','gt8']) & passenger != 'Kid(s)'\")['Y'].count()\n",
        "query1_acceptance_rate = query1 / bar_only_accepted\n",
        "query1_acceptance_rate"
      ]
    },
    {
      "cell_type": "code",
      "execution_count": 159,
      "metadata": {
        "id": "Y48naDFh_qRL"
      },
      "outputs": [
        {
          "data": {
            "text/plain": [
              "np.float64(0.41717049576783555)"
            ]
          },
          "execution_count": 159,
          "metadata": {},
          "output_type": "execute_result"
        }
      ],
      "source": [
        "# go to bars more than once a month and are under the age of 30 *OR*\n",
        "query2 = bar_only.query(\"age < 30 & Bar.isin(['1~3','4~8','gt8'])\")['Y'].count()\n",
        "query2_acceptance_rate = query2 / bar_only_accepted\n",
        "query2_acceptance_rate"
      ]
    },
    {
      "cell_type": "code",
      "execution_count": null,
      "metadata": {},
      "outputs": [
        {
          "data": {
            "text/plain": [
              "RestaurantLessThan20\n",
              "1~3      878\n",
              "4~8      568\n",
              "less1    325\n",
              "gt8      186\n",
              "never     37\n",
              "Name: count, dtype: int64"
            ]
          },
          "execution_count": 161,
          "metadata": {},
          "output_type": "execute_result"
        }
      ],
      "source": [
        "# go to cheap restaurants more than 4 times a month and income is less than 50K\n",
        "# First let's get some value counts\n",
        "bar_only['RestaurantLessThan20'].value_counts()\n",
        "#go2_cheap_restaurants_mt_4x = ['4~8','gt8']"
      ]
    },
    {
      "cell_type": "code",
      "execution_count": null,
      "metadata": {},
      "outputs": [
        {
          "data": {
            "text/plain": [
              "income\n",
              "$25000 - $37499     318\n",
              "$100000 or More     291\n",
              "$12500 - $24999     288\n",
              "$37500 - $49999     267\n",
              "$50000 - $62499     262\n",
              "Less than $12500    165\n",
              "$75000 - $87499     151\n",
              "$87500 - $99999     145\n",
              "$62500 - $74999     130\n",
              "Name: count, dtype: int64"
            ]
          },
          "execution_count": 162,
          "metadata": {},
          "output_type": "execute_result"
        }
      ],
      "source": [
        "bar_only['income'].value_counts()\n",
        "#more_than_50K = ['$$25000 - $37499','$12500 - $24999', '$37500 - $49999', 'Less than $12500']"
      ]
    },
    {
      "cell_type": "code",
      "execution_count": 165,
      "metadata": {},
      "outputs": [
        {
          "data": {
            "text/plain": [
              "np.float64(0.3264812575574365)"
            ]
          },
          "execution_count": 165,
          "metadata": {},
          "output_type": "execute_result"
        }
      ],
      "source": [
        "query3 = bar_only.query(\"RestaurantLessThan20.isin(['4~8','gt8']) & income.isin(['$$25000 - $37499','$12500 - $24999', '$37500 - $49999', 'Less than $12500'])\")['Y'].count()\n",
        "query3_acceptance_rate = query3 / bar_only_accepted\n",
        "query3_acceptance_rate"
      ]
    },
    {
      "cell_type": "markdown",
      "metadata": {},
      "source": [
        "7.  Based on these observations, what do you hypothesize about drivers who accepted the bar coupons?"
      ]
    },
    {
      "cell_type": "markdown",
      "metadata": {
        "id": "r4Hu1zOb_qRL"
      },
      "source": [
        "### Independent Investigation\n",
        "\n",
        "Using the bar coupon example as motivation, you are to explore one of the other coupon groups and try to determine the characteristics of passengers who accept the coupons.  "
      ]
    },
    {
      "cell_type": "code",
      "execution_count": 74,
      "metadata": {},
      "outputs": [
        {
          "data": {
            "text/plain": [
              "expiration\n",
              "1d    641\n",
              "2h    186\n",
              "Name: count, dtype: int64"
            ]
          },
          "execution_count": 74,
          "metadata": {},
          "output_type": "execute_result"
        }
      ],
      "source": [
        "bar_expiration = data.query(\"(coupon == 'Bar') & (Y == 1)\")['expiration'].value_counts()\n",
        "bar_expiration\n"
      ]
    },
    {
      "cell_type": "code",
      "execution_count": null,
      "metadata": {
        "id": "0c71cQhu_qRL"
      },
      "outputs": [
        {
          "name": "stdout",
          "output_type": "stream",
          "text": [
            "1995\n"
          ]
        },
        {
          "data": {
            "text/plain": [
              "np.float64(0.49924924924924924)"
            ]
          },
          "execution_count": 170,
          "metadata": {},
          "output_type": "execute_result"
        }
      ],
      "source": [
        "coffee_house = data.query(\"coupon == 'Coffee House'\")\n",
        "coffee_house_accept_proportion = (coffee_house['Y'] == 1).sum() / coffee_house['Y'].count()\n",
        "coffee_house_accept_proportion"
      ]
    },
    {
      "cell_type": "code",
      "execution_count": null,
      "metadata": {},
      "outputs": [
        {
          "data": {
            "text/plain": [
              "expiration\n",
              "1d    1033\n",
              "2h     962\n",
              "Name: count, dtype: int64"
            ]
          },
          "execution_count": 72,
          "metadata": {},
          "output_type": "execute_result"
        }
      ],
      "source": [
        "coffee_house_expiration = data.query(\"(coupon == 'Coffee House') & (Y == 1)\")['expiration'].value_counts()\n",
        "coffee_house_expiration"
      ]
    },
    {
      "cell_type": "code",
      "execution_count": 58,
      "metadata": {
        "id": "fTC2WGE3_qRL"
      },
      "outputs": [
        {
          "data": {
            "text/plain": [
              "np.float64(0.7071069633883704)"
            ]
          },
          "execution_count": 58,
          "metadata": {},
          "output_type": "execute_result"
        }
      ],
      "source": [
        "restaurant_lt20 = data.query(\"coupon == 'Restaurant(<20)'\")\n",
        "restaurant_lt20_accept_proportion = (restaurant_lt20['Y'] == 1).sum() / restaurant_lt20['Y'].count()\n",
        "restaurant_lt20_accept_proportion"
      ]
    },
    {
      "cell_type": "code",
      "execution_count": 75,
      "metadata": {},
      "outputs": [
        {
          "data": {
            "text/plain": [
              "expiration\n",
              "1d    1126\n",
              "2h     844\n",
              "Name: count, dtype: int64"
            ]
          },
          "execution_count": 75,
          "metadata": {},
          "output_type": "execute_result"
        }
      ],
      "source": [
        "restaurant_lt20_expiration = data.query(\"(coupon == 'Restaurant(<20)') & (Y == 1)\")['expiration'].value_counts()\n",
        "restaurant_lt20_expiration"
      ]
    },
    {
      "cell_type": "code",
      "execution_count": 59,
      "metadata": {},
      "outputs": [
        {
          "data": {
            "text/plain": [
              "np.float64(0.4410187667560322)"
            ]
          },
          "execution_count": 59,
          "metadata": {},
          "output_type": "execute_result"
        }
      ],
      "source": [
        "restaurant_20_50 = data.query(\"coupon == 'Restaurant(20-50)'\")\n",
        "restaurant_20_50_accept_proportion = (restaurant_20_50['Y'] == 1).sum() / restaurant_20_50['Y'].count()\n",
        "restaurant_20_50_accept_proportion"
      ]
    },
    {
      "cell_type": "code",
      "execution_count": 76,
      "metadata": {},
      "outputs": [
        {
          "data": {
            "text/plain": [
              "expiration\n",
              "1d    498\n",
              "2h    160\n",
              "Name: count, dtype: int64"
            ]
          },
          "execution_count": 76,
          "metadata": {},
          "output_type": "execute_result"
        }
      ],
      "source": [
        "restaurant_20_50_expiration = data.query(\"(coupon == 'Restaurant(20-50)') & (Y == 1)\")['expiration'].value_counts()\n",
        "restaurant_20_50_expiration"
      ]
    },
    {
      "cell_type": "code",
      "execution_count": 61,
      "metadata": {
        "id": "RrqUWn7d_qRL"
      },
      "outputs": [
        {
          "data": {
            "text/plain": [
              "np.float64(0.7354784788967823)"
            ]
          },
          "execution_count": 61,
          "metadata": {},
          "output_type": "execute_result"
        }
      ],
      "source": [
        "to_go = data.query(\"coupon == 'Carry out & Take away'\")\n",
        "to_go_accept_proportion = (to_go['Y'] == 1).sum() / to_go['Y'].count()\n",
        "to_go_accept_proportion"
      ]
    },
    {
      "cell_type": "code",
      "execution_count": null,
      "metadata": {
        "id": "_oykf8YP_qRL"
      },
      "outputs": [
        {
          "data": {
            "text/plain": [
              "expiration\n",
              "1d    1138\n",
              "2h     622\n",
              "Name: count, dtype: int64"
            ]
          },
          "execution_count": 77,
          "metadata": {},
          "output_type": "execute_result"
        }
      ],
      "source": [
        "to_go_expiration = data.query(\"(coupon == 'Carry out & Take away') & (Y == 1)\")['expiration'].value_counts()\n",
        "to_go_expiration"
      ]
    },
    {
      "cell_type": "markdown",
      "metadata": {},
      "source": [
        "For all the coupons, the expiration date of 1 day (vs 2hours) had a higher acceptance rate across the board. So it's possible some subjects did not have time to stop, or did not plan to, on the way to their destination.  However, there was a possibility that they would stop on the return trip. \n"
      ]
    },
    {
      "cell_type": "code",
      "execution_count": 176,
      "metadata": {},
      "outputs": [
        {
          "data": {
            "text/plain": [
              "<Axes: title={'center': 'Accepted Coupon Types'}, xlabel='coupon'>"
            ]
          },
          "execution_count": 176,
          "metadata": {},
          "output_type": "execute_result"
        },
        {
          "data": {
            "image/png": "[encoded data removed]",
            "text/plain": [
              "<Figure size 640x480 with 1 Axes>"
            ]
          },
          "metadata": {},
          "output_type": "display_data"
        }
      ],
      "source": [
        "data[data['Y'] == 1]['coupon'].value_counts().plot(kind='bar', title='Accepted Coupon Types')"
      ]
    },
    {
      "cell_type": "code",
      "execution_count": 174,
      "metadata": {},
      "outputs": [
        {
          "data": {
            "text/plain": [
              "coupon\n",
              "Bar                       827\n",
              "Carry out & Take away    1760\n",
              "Coffee House             1995\n",
              "Restaurant(20-50)         658\n",
              "Restaurant(<20)          1970\n",
              "dtype: int64"
            ]
          },
          "execution_count": 174,
          "metadata": {},
          "output_type": "execute_result"
        }
      ],
      "source": [
        "data[data['Y'] == 1].groupby(['coupon']).size()"
      ]
    }
  ],
  "metadata": {
    "colab": {
      "provenance": []
    },
    "kernelspec": {
      "display_name": "Python 3",
      "language": "python",
      "name": "python3"
    },
    "language_info": {
      "codemirror_mode": {
        "name": "ipython",
        "version": 3
      },
      "file_extension": ".py",
      "mimetype": "text/x-python",
      "name": "python",
      "nbconvert_exporter": "python",
      "pygments_lexer": "ipython3",
      "version": "3.13.7"
    }
  },
  "nbformat": 4,
  "nbformat_minor": 0
}
